{
 "cells": [
  {
   "cell_type": "code",
   "execution_count": 1,
   "metadata": {
    "collapsed": true
   },
   "outputs": [],
   "source": [
    "import os\n",
    "import math\n",
    "import collections"
   ]
  },
  {
   "cell_type": "code",
   "execution_count": 80,
   "metadata": {
    "collapsed": true
   },
   "outputs": [],
   "source": [
    "class books:\n",
    "    \"\"\"Return the maximum possible scores of books.\"\"\"\n",
    "\n",
    "    def __init__(self, filepath):\n",
    "        \"\"\"Initiate books, libraries, days, scores, libraBook.\"\"\"\n",
    "        with open(filepath, \"r\") as file:\n",
    "            dat = file.readlines()\n",
    "            self.books, self.libraries, self.days = [int(item) for item in dat[0][:-1].split(\" \")]\n",
    "            self.scores = [int(item) for item in dat[1][:-1].split(\" \")]\n",
    "            self.libraBook = []\n",
    "            for i in range(2, len(dat), 2):\n",
    "                if dat[i] == \"\\n\":\n",
    "                    break\n",
    "                self.libraBook.append([[int(item) for item in dat[i][:-1].split(\" \")],\n",
    "                                       sorted([int(item) for item in dat[i + 1][:-1].split(\" \")],\n",
    "                                              key=lambda x: self.scores[x])])\n",
    "                self.libraBook[-1][0].append(sum(self.scores[b] for b in self.libraBook[-1][1]))\n",
    "            self.minSignup = min(x[0][1] for x in self.libraBook)\n",
    "#         print(self.books, self.libraries, self.days, self.scores, self.libraBook)\n",
    "        \n",
    "    def current_score(self, lib_left: list, days_left: int, book_scanned: set):\n",
    "        \"\"\"\n",
    "        Calculate score and trade-off score when selecting lib to sign up.\n",
    "        \"\"\"\n",
    "        current_score, rest_days, trade_off_score = [], [], []\n",
    "        \n",
    "        book_left = set(range(self.books)) - set(book_scanned)\n",
    "        mean_score = sum([self.scores[book] for book in book_left]) / len(book_left)\n",
    "        \n",
    "        for lib in lib_left:\n",
    "            scores = [self.scores[book] for book in self.libraBook[lib][1] if book not in book_scanned]\n",
    "            scores.sort(reverse=True)\n",
    "            days_after_sign = max(0, days_left - self.libraBook[lib][0][1])\n",
    "            scan_per_day = self.libraBook[lib][0][2]\n",
    "            \n",
    "            score = sum(scores[:days_after_sign * scan_per_day])\n",
    "            current_score.append(score)\n",
    "            \n",
    "            rest_day = max(0, days_after_sign - math.ceil(len(scores) / scan_per_day))\n",
    "            rest_days.append(rest_day)\n",
    "            \n",
    "            # trade_off_score = score - opportunity_cost\n",
    "            trade_off_score.append(score - rest_day * mean_score)\n",
    "            \n",
    "        return current_score, rest_days, trade_off_score\n",
    "    \n",
    "    def scan_book(self, lib, days_left, book_scanned):\n",
    "        \n",
    "        days_after_sign = max(0, days_left - self.libraBook[lib][0][1])\n",
    "        scan_per_day = self.libraBook[lib][0][2]\n",
    "\n",
    "        book_list = [book for book in self.libraBook[lib][1] if book not in book_scanned]\n",
    "        score_list = [self.scores[book] for book in book_list]\n",
    "        score_dict = collections.OrderedDict(dict(zip(book_list, score_list)))\n",
    "        sorted_book_list = list(score_dict.keys())\n",
    "\n",
    "        scan_list = sorted_book_list[:days_after_sign * scan_per_day]\n",
    "\n",
    "        return scan_list\n",
    "\n",
    "        \n",
    "    def MaxScore(self):\n",
    "        \n",
    "        days_left = self.days\n",
    "        lib_left = list(range(self.libraries))\n",
    "        book_scanned = set()\n",
    "        \n",
    "        lib_num = 0\n",
    "        scan_process = []\n",
    "        \n",
    "        while days_left > 0 and len(book_scanned) < self.books:\n",
    "            current_score, rest_days, trade_off_score = self.current_score(lib_left, days_left, book_scanned)\n",
    "            next_lib = lib_left[trade_off_score.index(max(trade_off_score))]\n",
    "            \n",
    "            scan_order = self.scan_book(next_lib, days_left, book_scanned)\n",
    "            scan_process += [[next_lib, len(scan_order)], scan_order]\n",
    "            \n",
    "            lib_num += 1\n",
    "            days_left -= self.libraBook[next_lib][0][1]\n",
    "            lib_left.remove(next_lib)\n",
    "            book_scanned.update(scan_order)\n",
    "            \n",
    "        if scan_process[-1] == []:\n",
    "            scan_process = scan_process[:-2]\n",
    "            lib_num -= 1\n",
    "            \n",
    "        return [lib_num, *scan_process]\n",
    "    \n",
    "    def total_score(self):\n",
    "        \n",
    "        total_book = []\n",
    "        result = self.MaxScore()\n",
    "        lib_num = result[0]\n",
    "        for i in range(1, lib_num + 1):\n",
    "            total_book += result[i * 2]\n",
    "            \n",
    "        scores = [self.scores[book] for book in total_book]\n",
    "        \n",
    "        return sum(scores)\n",
    "    \n",
    "\n",
    "os.chdir(\".\")\n",
    "for name in [\"a_example\"]:\n",
    "    ans = books(name + \".txt\")"
   ]
  },
  {
   "cell_type": "code",
   "execution_count": 83,
   "metadata": {},
   "outputs": [
    {
     "data": {
      "text/plain": [
       "(21, 5822900)"
      ]
     },
     "execution_count": 83,
     "metadata": {},
     "output_type": "execute_result"
    }
   ],
   "source": [
    "books(\"a_example.txt\").total_score(), books(\"b_read_on.txt\").total_score()"
   ]
  },
  {
   "cell_type": "code",
   "execution_count": 50,
   "metadata": {
    "scrolled": true
   },
   "outputs": [
    {
     "name": "stdout",
     "output_type": "stream",
     "text": [
      "a_example total score is 21\n",
      "b_read_on total score is 5822900\n",
      "c_incunabula total score is 522315\n",
      "d_tough_choices total score is 5028530\n",
      "e_so_many_books total score is 897732\n",
      "f_libraries_of_the_world total score is 1405258\n"
     ]
    }
   ],
   "source": [
    "for name in [\"a_example\", \"b_read_on\", \"c_incunabula\", \"d_tough_choices\", \"e_so_many_books\", \"f_libraries_of_the_world\"]:\n",
    "    ans = books(name + \".txt\")\n",
    "    print(\"{} total score is {}\".format(name, ans.total_score()))"
   ]
  },
  {
   "cell_type": "code",
   "execution_count": 84,
   "metadata": {},
   "outputs": [],
   "source": [
    "for name in [\"a_example\", \"b_read_on\", \"c_incunabula\", \"d_tough_choices\", \"e_so_many_books\", \"f_libraries_of_the_world\"]:\n",
    "    ans = books(name + \".txt\").MaxScore()\n",
    "    file = open(name + \"_ans.txt\", \"w\")\n",
    "    file.write(str(ans[0]) + \"\\n\")\n",
    "    for a in ans[1:]:\n",
    "        file.write(\" \".join(str(A) for A in a) + \"\\n\")\n",
    "    file.close()"
   ]
  },
  {
   "cell_type": "code",
   "execution_count": null,
   "metadata": {
    "collapsed": true
   },
   "outputs": [],
   "source": []
  }
 ],
 "metadata": {
  "kernelspec": {
   "display_name": "Python 3",
   "language": "python",
   "name": "python3"
  },
  "language_info": {
   "codemirror_mode": {
    "name": "ipython",
    "version": 3
   },
   "file_extension": ".py",
   "mimetype": "text/x-python",
   "name": "python",
   "nbconvert_exporter": "python",
   "pygments_lexer": "ipython3",
   "version": "3.6.3"
  }
 },
 "nbformat": 4,
 "nbformat_minor": 2
}
