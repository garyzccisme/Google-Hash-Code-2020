{
 "cells": [
  {
   "cell_type": "markdown",
   "metadata": {},
   "source": [
    "# Problem description"
   ]
  },
  {
   "cell_type": "markdown",
   "metadata": {},
   "source": [
    "You are organizing a Hash Code hub and want to order pizza for your hub’s participants. Luckily, there is a nearby pizzeria with really good pizza.\n",
    "\n",
    "The pizzeria has different types of pizza, and to keep the food offering for your hub interesting, you can only order at most one pizza of each type. Fortunately, there are many types of pizza to choose from!\n",
    "\n",
    "Each type of pizza has a specified size: the size is the number of slices in a pizza of this type.\n",
    "\n",
    "You estimated the maximum number of pizza slices that you want to order for your hub based on the number of registered participants. In order to reduce food waste, your goal is to order as many pizza slices as possible, but not more than the\n",
    "maximum number."
   ]
  },
  {
   "cell_type": "code",
   "execution_count": 14,
   "metadata": {
    "collapsed": true
   },
   "outputs": [],
   "source": [
    "class pizza:\n",
    "    \"\"\"Return the maximum number of pizza slices possible and their formations.\"\"\"\n",
    "    def __init__(self, filepath):\n",
    "        with open(filepath, \"r\") as file:\n",
    "            dat = file.readlines()\n",
    "            self.bound, self.types = [int(item) for item in dat[0][:-1].split(\" \")]\n",
    "            self.slices = [int(item) for item in dat[1][:-1].split(\" \")]\n",
    "\n",
    "    def MaxPizza(self):\n",
    "        \"\"\"BFS - slow!\"\"\"\n",
    "        dicti = {0: []}\n",
    "        for i, s in enumerate(self.slices):\n",
    "            temp = {}\n",
    "            for d in dicti:\n",
    "                cur = s + d\n",
    "                if cur <= self.bound and cur not in dicti and cur not in temp:\n",
    "                    temp[cur] = dicti[d] + [i]\n",
    "            for t in temp:\n",
    "                dicti[t] = temp[t]\n",
    "        return [max(dicti), dicti[max(dicti)]]\n",
    "    \n",
    "    def MaxPizza2(self):\n",
    "        \"\"\"Knapsack - slow!!\"\"\"\n",
    "        ans = [[]] + [[] for i in range(self.bound)]\n",
    "        for i, s in enumerate(self.slices):\n",
    "            if self.bound == s or (self.bound > s and ans[self.bound - s]):\n",
    "                return [s, ans[self.bound - s] + [i]]\n",
    "            for b in range(self.bound - 1, s, -1):\n",
    "                if not ans[b] and ans[b - s]:\n",
    "                    ans[b] = ans[b - s] + [i]\n",
    "            if self.bound >= s and not ans[s]:\n",
    "                ans[s] = [i]\n",
    "        for i in range(self.bound, -1, -1):\n",
    "            if ans[i]:\n",
    "                return [i, ans[i]]\n",
    "        return []\n",
    "    \n",
    "    def MaxPizza3(self):\n",
    "        \"\"\"\n",
    "        DFS - lightning-fast\n",
    "        Inspired by the repository from \"https://github.com/senesh-deshan/Google-Hash-Code-2020\"\n",
    "        \"\"\"\n",
    "        n, ans = len(self.slices), [0]\n",
    "        cur, index = [0], n\n",
    "        while index:\n",
    "            index -= 1\n",
    "            for i in range(index, -1, -1):\n",
    "                if cur[0] + self.slices[i] <= self.bound:\n",
    "                    cur[0] += self.slices[i]\n",
    "                    cur.append(i)\n",
    "            if cur[0] == self.bound:\n",
    "                return [cur[0], cur[1:][::-1]]\n",
    "            if cur[0] > ans[0]:\n",
    "                ans = cur.copy()\n",
    "            if len(cur) == 1 or (len(cur) == 2 and not cur[-1]):\n",
    "                break\n",
    "            if not cur[-1]:\n",
    "                cur[0] -= self.slices[cur.pop()]\n",
    "            index = cur.pop()\n",
    "            cur[0] -= self.slices[index]\n",
    "            print(cur, index)\n",
    "        return [ans[0], ans[1:][::-1]]"
   ]
  },
  {
   "cell_type": "code",
   "execution_count": 2,
   "metadata": {},
   "outputs": [
    {
     "name": "stdout",
     "output_type": "stream",
     "text": [
      "Maximum slices possible for 'a_example' are 16.\n",
      "Maximum slices possible for 'b_small' are 100.\n",
      "Maximum slices possible for 'c_medium' are 4500.\n",
      "Maximum slices possible for 'd_quite_big' are 1000000000.\n",
      "Maximum slices possible for 'e_also_big' are 505000000.\n"
     ]
    }
   ],
   "source": [
    "import os\n",
    "# os.chdir(path)\n",
    "\n",
    "for name in [\"a_example\", \"b_small\", \"c_medium\", \"d_quite_big\", \"e_also_big\"]:\n",
    "    ans = pizza(name + \".in\").MaxPizza3()\n",
    "    print(\"Maximum slices possible for '{}' are {}.\".format(name, ans[0]))\n",
    "    \n",
    "    file = open(name + \"_ans.in\", \"w\")\n",
    "    file.write(str(len(ans[1])) + \"\\n\")\n",
    "    file.write(\" \".join(str(a) for a in ans[1]))\n",
    "    file.close()"
   ]
  },
  {
   "cell_type": "code",
   "execution_count": 15,
   "metadata": {},
   "outputs": [
    {
     "data": {
      "text/plain": [
       "(4500, 50, 50)"
      ]
     },
     "execution_count": 15,
     "metadata": {},
     "output_type": "execute_result"
    }
   ],
   "source": [
    "p = pizza(\"c_medium.in\")\n",
    "p.bound, p.types, len(p.slices)"
   ]
  },
  {
   "cell_type": "code",
   "execution_count": 17,
   "metadata": {
    "collapsed": true
   },
   "outputs": [],
   "source": [
    "p.bound = 12\n",
    "p.types= 3\n",
    "p.slice=[10, 9, 3]"
   ]
  },
  {
   "cell_type": "code",
   "execution_count": 18,
   "metadata": {},
   "outputs": [
    {
     "data": {
      "text/plain": [
       "[12, [2]]"
      ]
     },
     "execution_count": 18,
     "metadata": {},
     "output_type": "execute_result"
    }
   ],
   "source": [
    "p.MaxPizza3()"
   ]
  },
  {
   "cell_type": "code",
   "execution_count": 9,
   "metadata": {},
   "outputs": [
    {
     "data": {
      "text/plain": [
       "['4500 50\\n',\n",
       " '7 12 12 13 14 28 29 29 30 32 32 34 41 45 46 56 61 61 62 63 65 68 76 77 77 92 93 94 97 103 113 114 114 120 135 145 145 149 156 157 160 169 172 179 184 185 189 194 195 195\\n']"
      ]
     },
     "execution_count": 9,
     "metadata": {},
     "output_type": "execute_result"
    }
   ],
   "source": [
    "dat"
   ]
  },
  {
   "cell_type": "code",
   "execution_count": null,
   "metadata": {
    "collapsed": true
   },
   "outputs": [],
   "source": []
  }
 ],
 "metadata": {
  "kernelspec": {
   "display_name": "Python 3",
   "language": "python",
   "name": "python3"
  },
  "language_info": {
   "codemirror_mode": {
    "name": "ipython",
    "version": 3
   },
   "file_extension": ".py",
   "mimetype": "text/x-python",
   "name": "python",
   "nbconvert_exporter": "python",
   "pygments_lexer": "ipython3",
   "version": "3.6.3"
  }
 },
 "nbformat": 4,
 "nbformat_minor": 2
}
